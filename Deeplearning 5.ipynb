{
 "cells": [
  {
   "cell_type": "code",
   "execution_count": null,
   "metadata": {
    "colab": {
     "base_uri": "https://localhost:8080/"
    },
    "id": "3U9rVvnEs7w5",
    "outputId": "502c7964-0086-4910-e3fd-e15ffdfac5b2"
   },
   "outputs": [],
   "source": [
    "!pip install ultralytics deep-sort-realtime opencv-python-headless ffmpeg-python"
   ]
  },
  {
   "cell_type": "code",
   "execution_count": null,
   "metadata": {
    "colab": {
     "base_uri": "https://localhost:8080/"
    },
    "id": "1vDSuO4vtEHX",
    "outputId": "a894969c-9f86-4aff-b69f-3c3179d04fcc"
   },
   "outputs": [],
   "source": [
    "import cv2\n",
    "import numpy as np\n",
    "from ultralytics import YOLO\n",
    "from deep_sort_realtime.deepsort_tracker import DeepSort\n",
    "from google.colab import files\n",
    "from IPython.display import HTML, display\n",
    "from base64 import b64encode\n",
    "import os"
   ]
  },
  {
   "cell_type": "code",
   "execution_count": null,
   "metadata": {
    "colab": {
     "base_uri": "https://localhost:8080/"
    },
    "id": "OFo6pkWitFMG",
    "outputId": "37473963-c728-4a58-dac1-2847d628d58a"
   },
   "outputs": [],
   "source": [
    "# Load YOLOv8 lightweight model (nano version)\n",
    "from ultralytics import YOLO\n",
    "yolo_model = YOLO(\"yolov8n.pt\")\n",
    "\n",
    "# Ganti dengan 'yolov8s.pt' untuk akurasi lebih tinggi\n",
    "\n",
    "# Inisialisasi pelacak DeepSORT\n",
    "from deep_sort_realtime.deepsort_tracker import DeepSort\n",
    "object_tracker = DeepSort(\n",
    "    max_age=30,\n",
    "    n_init=3,\n",
    "    max_iou_distance=0.7,\n",
    "    embedder=\"mobilenet\",\n",
    "    half=True,\n",
    "    bgr=True\n",
    ")\n"
   ]
  },
  {
   "cell_type": "code",
   "execution_count": null,
   "metadata": {
    "colab": {
     "base_uri": "https://localhost:8080/",
     "height": 106
    },
    "id": "ul-dz62RtHTN",
    "outputId": "885bf957-bc07-4ebd-e5ee-c0ed646f7bb6"
   },
   "outputs": [],
   "source": [
    "print(\"📤 Please upload your video file...\")\n",
    "data_video = files.upload()\n",
    "video_path = list(data_video.keys())[0]\n",
    "print(f\"✅ Uploaded video: {video_path}\")"
   ]
  },
  {
   "cell_type": "code",
   "execution_count": null,
   "metadata": {
    "colab": {
     "base_uri": "https://localhost:8080/"
    },
    "id": "g8oGHnCZtJ41",
    "outputId": "a5fc1010-8385-4edb-94ad-4000feab37dc"
   },
   "outputs": [],
   "source": [
    "# Buka file video\n",
    "video_capture = cv2.VideoCapture(video_path)\n",
    "if not video_capture.isOpened():\n",
    "    raise ValueError(\"❌ Tidak dapat membuka file video!\")\n",
    "\n",
    "# Ambil properti video\n",
    "video_width = int(video_capture.get(cv2.CAP_PROP_FRAME_WIDTH))\n",
    "video_height = int(video_capture.get(cv2.CAP_PROP_FRAME_HEIGHT))\n",
    "video_fps = video_capture.get(cv2.CAP_PROP_FPS)\n",
    "total_frames = int(video_capture.get(cv2.CAP_PROP_FRAME_COUNT))\n",
    "\n",
    "# Tampilkan informasi video\n",
    "print(f\"📐 Resolusi video: {video_width}x{video_height}\")\n",
    "print(f\"🎬 {video_fps} FPS, total {total_frames} frame\")\n",
    "print(f\"⏳ Durasi estimasi: {total_frames / video_fps:.2f} detik\")\n",
    "\n",
    "# Siapkan output video\n",
    "save_path = 'output_counting.mp4'\n",
    "codec = cv2.VideoWriter_fourcc(*'mp4v')\n",
    "video_writer = cv2.VideoWriter(save_path, codec, video_fps, (video_width, video_height))\n"
   ]
  },
  {
   "cell_type": "code",
   "execution_count": null,
   "metadata": {
    "colab": {
     "base_uri": "https://localhost:8080/"
    },
    "id": "EoHuJK7EtM2t",
    "outputId": "cf228012-7764-4fbd-f2d2-b9b3a959b361"
   },
   "outputs": [],
   "source": [
    "# Buka video\n",
    "cap = cv2.VideoCapture(video_path)  # Tambahan penting untuk menghindari NameError\n",
    "\n",
    "counted_ids = set()\n",
    "total_count = 0\n",
    "frame_num = 0\n",
    "\n",
    "while cap.isOpened():\n",
    "    ret, frame = cap.read()\n",
    "    if not ret:\n",
    "        break\n",
    "\n",
    "    frame_num += 1\n",
    "    if frame_num % 10 == 0:\n",
    "        print(f\"⏳ Processing frame {frame_num}/{total_frames}\", end='\\r')\n",
    "\n",
    "    # Ubah BGR ke RGB untuk YOLO\n",
    "    frame_rgb = cv2.cvtColor(frame, cv2.COLOR_BGR2RGB)\n",
    "\n",
    "    # Deteksi objek manusia (class 0 = person)\n",
    "    results = yolo_model(frame_rgb, classes=[0], verbose=False)[0]\n",
    "    detections = []\n",
    "\n",
    "    for box in results.boxes:\n",
    "        x1, y1, x2, y2 = map(int, box.xyxy[0])\n",
    "        conf = box.conf[0].item()\n",
    "        detections.append(([x1, y1, x2 - x1, y2 - y1], conf, 'person'))\n",
    "\n",
    "    # Update pelacakan objek\n",
    "    tracks = object_tracker.update_tracks(detections, frame=frame_rgb)\n",
    "\n",
    "    for track in tracks:\n",
    "        if not track.is_confirmed():\n",
    "            continue\n",
    "\n",
    "        track_id = track.track_id\n",
    "        l, t, r, b = map(int, track.to_ltrb())\n",
    "\n",
    "        # Gambar kotak pelacakan\n",
    "        cv2.rectangle(frame, (l, t), (r, b), (0, 200, 255), 2)\n",
    "        cv2.putText(frame, f'ID:{track_id}', (l, t - 10),\n",
    "                    cv2.FONT_HERSHEY_SIMPLEX, 0.6, (0, 0, 255), 2)\n",
    "\n",
    "        # Hitung hanya ID yang belum tercatat\n",
    "        if track_id not in counted_ids:\n",
    "            counted_ids.add(track_id)\n",
    "            total_count += 1\n",
    "\n",
    "    # Tampilkan total\n",
    "    cv2.putText(frame, f'Total: {total_count}', (20, 50),\n",
    "                cv2.FONT_HERSHEY_SIMPLEX, 1.2, (0, 255, 0), 3)\n",
    "\n",
    "    # Simpan frame hasil\n",
    "    video_writer.write(frame)\n",
    "\n",
    "cap.release()\n",
    "video_writer.release()\n",
    "print(f\"\\n✅ Processing complete! Total people counted: {total_count}\")"
   ]
  },
  {
   "cell_type": "code",
   "execution_count": null,
   "metadata": {
    "colab": {
     "base_uri": "https://localhost:8080/"
    },
    "id": "zPD_MbZ_tQak",
    "outputId": "2e402bb9-efb2-48ca-ef30-b8fdde63ced2"
   },
   "outputs": [],
   "source": [
    "# Check output file\n",
    "output_size = os.path.getsize(save_path)/1024/1024\n",
    "print(f\"📁 Output file size: {output_size:.2f} MB\")\n",
    "\n",
    "if output_size < 0.1:  # If file is too small\n",
    "    print(\"⚠️ Warning: Output file seems too small. There might be an issue.\")\n",
    "else:\n",
    "    print(\"✔️ Output file looks good\")"
   ]
  },
  {
   "cell_type": "code",
   "execution_count": null,
   "metadata": {
    "colab": {
     "base_uri": "https://localhost:8080/",
     "height": 514
    },
    "id": "wOd46FmutTVt",
    "outputId": "f9ef0483-fca1-41a1-b5ee-904a6952c3cd"
   },
   "outputs": [],
   "source": [
    "def show_video(video_path):\n",
    "    # Convert to compatible format\n",
    "    !ffmpeg -y -i {video_path} -vcodec libx264 output_final.mp4 -hide_banner -loglevel error\n",
    "\n",
    "    # Display in notebook\n",
    "    mp4 = open(\"output_final.mp4\", \"rb\").read()\n",
    "    data_url = \"data:video/mp4;base64,\" + b64encode(mp4).decode()\n",
    "    display(HTML(f'''\n",
    "    <div style=\"margin: 10px 0;\">\n",
    "      <video width=\"800\" controls>\n",
    "        <source src=\"{data_url}\" type=\"video/mp4\">\n",
    "      </video>\n",
    "      <p>Total people counted: {total_count}</p>\n",
    "    </div>\n",
    "    '''))\n",
    "\n",
    "show_video(save_path)"
   ]
  },
  {
   "cell_type": "code",
   "execution_count": null,
   "metadata": {
    "colab": {
     "base_uri": "https://localhost:8080/",
     "height": 17
    },
    "id": "q7l0I5CgtV3t",
    "outputId": "3ea986bd-b491-48a5-8b37-17d0551b1027"
   },
   "outputs": [],
   "source": [
    "from google.colab import files\n",
    "files.download(save_path)"
   ]
  }
 ],
 "metadata": {
  "accelerator": "GPU",
  "colab": {
   "gpuType": "T4",
   "provenance": []
  },
  "kernelspec": {
   "display_name": "Python 3",
   "name": "python3"
  },
  "language_info": {
   "name": "python"
  }
 },
 "nbformat": 4,
 "nbformat_minor": 0
}
